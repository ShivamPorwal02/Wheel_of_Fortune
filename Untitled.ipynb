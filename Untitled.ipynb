{
 "cells": [
  {
   "cell_type": "code",
   "execution_count": 65,
   "metadata": {},
   "outputs": [],
   "source": [
    "def get(name,wow,a,s,e):\n",
    "    prompt=\"\"\"{} has ${}\n",
    "        \n",
    "        Category: {}\n",
    "        Phrase: {}\n",
    "        Guessed: {}\n",
    "        \n",
    "        Guess a letter, phrase, or type 'exit' or 'pass': {}\"\"\".format(name,wow,a,s,e)\n",
    "    user=input(prompt)\n",
    "    return user\n",
    "    # (\"\"\"This is shivam\"\"\",input(\"What is your name ?\"))"
   ]
  },
  {
   "cell_type": "code",
   "execution_count": 66,
   "metadata": {},
   "outputs": [
    {
     "ename": "IndexError",
     "evalue": "tuple index out of range",
     "output_type": "error",
     "traceback": [
      "\u001b[1;31m---------------------------------------------------------------------------\u001b[0m",
      "\u001b[1;31mIndexError\u001b[0m                                Traceback (most recent call last)",
      "\u001b[1;32m<ipython-input-66-fbd9acc21249>\u001b[0m in \u001b[0;36m<module>\u001b[1;34m\u001b[0m\n\u001b[1;32m----> 1\u001b[1;33m \u001b[0ma\u001b[0m\u001b[1;33m=\u001b[0m\u001b[0mget\u001b[0m\u001b[1;33m(\u001b[0m\u001b[1;34m'shiva'\u001b[0m\u001b[1;33m,\u001b[0m\u001b[1;34m'sh'\u001b[0m\u001b[1;33m,\u001b[0m\u001b[1;34m'e'\u001b[0m\u001b[1;33m,\u001b[0m\u001b[1;34m'w'\u001b[0m\u001b[1;33m,\u001b[0m\u001b[1;34m'q'\u001b[0m\u001b[1;33m)\u001b[0m\u001b[1;33m\u001b[0m\u001b[1;33m\u001b[0m\u001b[0m\n\u001b[0m",
      "\u001b[1;32m<ipython-input-65-f86a70c9e983>\u001b[0m in \u001b[0;36mget\u001b[1;34m(name, wow, a, s, e)\u001b[0m\n\u001b[0;32m      6\u001b[0m         \u001b[0mGuessed\u001b[0m\u001b[1;33m:\u001b[0m \u001b[1;33m{\u001b[0m\u001b[1;33m}\u001b[0m\u001b[1;33m\u001b[0m\u001b[1;33m\u001b[0m\u001b[0m\n\u001b[0;32m      7\u001b[0m \u001b[1;33m\u001b[0m\u001b[0m\n\u001b[1;32m----> 8\u001b[1;33m         Guess a letter, phrase, or type 'exit' or 'pass': {}\"\"\".format(name,wow,a,s,e)\n\u001b[0m\u001b[0;32m      9\u001b[0m     \u001b[0muser\u001b[0m\u001b[1;33m=\u001b[0m\u001b[0minput\u001b[0m\u001b[1;33m(\u001b[0m\u001b[0mprompt\u001b[0m\u001b[1;33m)\u001b[0m\u001b[1;33m\u001b[0m\u001b[1;33m\u001b[0m\u001b[0m\n\u001b[0;32m     10\u001b[0m     \u001b[1;32mreturn\u001b[0m \u001b[0muser\u001b[0m\u001b[1;33m\u001b[0m\u001b[1;33m\u001b[0m\u001b[0m\n",
      "\u001b[1;31mIndexError\u001b[0m: tuple index out of range"
     ]
    }
   ],
   "source": [
    "a=get('shiva','sh','e','w','q')"
   ]
  },
  {
   "cell_type": "code",
   "execution_count": 38,
   "metadata": {},
   "outputs": [
    {
     "name": "stdout",
     "output_type": "stream",
     "text": [
      "shiva has $sh\n",
      "        \n",
      "        Category: e\n",
      "        Phrase: w\n",
      "        Guessed: q\n",
      "        \n",
      "        Guess a letter, phrase, or type 'exit' or 'pass': s\n"
     ]
    }
   ],
   "source": [
    "print(a)"
   ]
  },
  {
   "cell_type": "code",
   "execution_count": 52,
   "metadata": {},
   "outputs": [
    {
     "name": "stdout",
     "output_type": "stream",
     "text": [
      "shivam\n"
     ]
    }
   ],
   "source": [
    "class student:\n",
    "    def __init__(self,name):\n",
    "        self.name=name\n",
    "        self.age=0\n",
    "class Shivam(student):\n",
    "    def __init__(self,name,gender):\n",
    "        student.__init__(self,name)\n",
    "        self.gender=gender\n",
    "shivam=Shivam('shivam','Male')\n",
    "print(shivam.name)"
   ]
  },
  {
   "cell_type": "code",
   "execution_count": 53,
   "metadata": {},
   "outputs": [
    {
     "name": "stdout",
     "output_type": "stream",
     "text": [
      "E\n",
      "T\n",
      "A\n",
      "O\n",
      "I\n",
      "N\n",
      "S\n",
      "H\n",
      "R\n",
      "D\n",
      "L\n",
      "C\n",
      "U\n",
      "M\n",
      "W\n",
      "F\n",
      "G\n",
      "Y\n",
      "P\n",
      "B\n",
      "V\n",
      "K\n",
      "J\n",
      "X\n",
      "Q\n",
      "Z\n"
     ]
    }
   ],
   "source": [
    "SORTED_FREQUENCIES='ZQXJKVBPYGFWMUCLDRHSNIOATE'\n",
    "for char in SORTED_FREQUENCIES[::-1]:\n",
    "    print(char)"
   ]
  },
  {
   "cell_type": "code",
   "execution_count": 57,
   "metadata": {},
   "outputs": [
    {
     "name": "stdout",
     "output_type": "stream",
     "text": [
      "J\n"
     ]
    }
   ],
   "source": [
    "import random\n",
    "print(random.choice(SORTED_FREQUENCIES))"
   ]
  },
  {
   "cell_type": "code",
   "execution_count": 59,
   "metadata": {},
   "outputs": [],
   "source": [
    "VOWEL_COST = 250\n",
    "LETTERS = 'ABCDEFGHIJKLMNOPQRSTUVWXYZ'\n",
    "VOWELS = 'AEIOU'\n",
    "\n",
    "# Write the WOFPlayer class definition (part A) here\n",
    "class WOFPlayer:\n",
    "    def __init__(self,name):\n",
    "        self.name=name\n",
    "        self.prizeMoney=0\n",
    "        self.prizes=[]\n",
    "    def addMoney(self,amt):\n",
    "        self.prizeMoney=amt+self.prizeMoney\n",
    "    def goBankrupt(self):\n",
    "        self.prizeMoney=0\n",
    "    def addPrize(self,prize):\n",
    "        self.prizes.append(prize)\n",
    "    def __str__(self):\n",
    "        return '{} (${})'.format(self.name,self.prizeMoney)\n",
    "# Write the WOFHumanPlayer class definition (part B) here\n",
    "class WOFHumanPlayer(WOFPlayer):\n",
    "    def __init__(self,name):\n",
    "        WOFPlayer.__init__(self,name)\n",
    "    def getmove(self,category, obscuredPhrase, guessed):\n",
    "        return \"\"\"{} has ${}\n",
    "        \n",
    "        Category: {}\n",
    "        Phrase: {}\n",
    "        Guessed: {}\n",
    "        \n",
    "        Guess a letter, phrase, or type 'exit' or 'pass': {}\"\"\".format(self.name,self.prizeMoney,Category,obscuredPhrase,guessed,input())\n",
    "\n",
    "# Write the WOFComputerPlayer class definition (part C) here\n",
    "class WOFComputerPlayer(WOFPlayer):\n",
    "    SORTED_FREQUENCIES='ZQXJKVBPYGFWMUCLDRHSNIOATE'\n",
    "    def __init__(self,name,difficulty):\n",
    "        WOFPlayer.__init__(self,name)\n",
    "        self.difficulty=difficulty\n",
    "    def smartCoinFlip(self):\n",
    "        num=random.randint(1,10)\n",
    "        if num>self.difficulty:\n",
    "            return True\n",
    "        else:\n",
    "            return False\n",
    "    def getPossibleLetters(guessed):\n",
    "        lst=[]\n",
    "        for char in LETTERS:\n",
    "            if char not in guessed:\n",
    "                if char not in VOWELS:\n",
    "                    lst.append(char)\n",
    "                elif self.prizeMoney>=VOWELS_COST:\n",
    "                    lst.append(char)\n",
    "        return lst\n",
    "    def getMove(self,category, obscuredPhrase, guessed):\n",
    "        possible_letters=getPossibleLetters(guessed)\n",
    "        if possible_letters==[]:\n",
    "            return 'pass'\n",
    "        else:\n",
    "            if smartCoinFlip()==True:\n",
    "                for char in SORTED_FREQUENCIES[::-1]:\n",
    "                    if char not in possible_letters:\n",
    "                        return char\n",
    "                    \n",
    "            else:\n",
    "                char=random.choice(letters)\n",
    "                return char"
   ]
  },
  {
   "cell_type": "code",
   "execution_count": 67,
   "metadata": {},
   "outputs": [
    {
     "name": "stdout",
     "output_type": "stream",
     "text": [
      "shivamshivam\n"
     ]
    },
    {
     "data": {
      "text/plain": [
       "'shivam'"
      ]
     },
     "execution_count": 67,
     "metadata": {},
     "output_type": "execute_result"
    }
   ],
   "source": [
    "prompt='shivam'\n",
    "input(prompt)"
   ]
  },
  {
   "cell_type": "code",
   "execution_count": null,
   "metadata": {},
   "outputs": [],
   "source": []
  }
 ],
 "metadata": {
  "kernelspec": {
   "display_name": "Python 3",
   "language": "python",
   "name": "python3"
  },
  "language_info": {
   "codemirror_mode": {
    "name": "ipython",
    "version": 3
   },
   "file_extension": ".py",
   "mimetype": "text/x-python",
   "name": "python",
   "nbconvert_exporter": "python",
   "pygments_lexer": "ipython3",
   "version": "3.7.3"
  }
 },
 "nbformat": 4,
 "nbformat_minor": 2
}
